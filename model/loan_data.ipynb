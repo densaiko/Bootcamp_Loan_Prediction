{
  "nbformat": 4,
  "nbformat_minor": 0,
  "metadata": {
    "colab": {
      "name": "Assisgnment 3 - Datathon",
      "provenance": []
    },
    "kernelspec": {
      "name": "python3",
      "display_name": "Python 3"
    }
  },
  "cells": [
    {
      "cell_type": "markdown",
      "metadata": {
        "id": "lvKpXXUfLX3E"
      },
      "source": [
        "#Loan Application\n",
        "SZE bank want to identified the loan application to filter the people who can be granted loans and need to be rejected is a tedious and time-consuming process. So, I am going to help the SZE bank to make a machine learning model to predict whether the people will get a loan or not.\n",
        "\n",
        "Ari Sulistiyo Prabowo - Data Scientist\n",
        "\n",
        "__________"
      ]
    },
    {
      "cell_type": "markdown",
      "metadata": {
        "id": "zBWBsPszMQON"
      },
      "source": [
        "Here I provide the list of content on this notebook:\n",
        "\n",
        "\n",
        "**Data Preparation**\n",
        "- Import library and load the dataset \n",
        "- Brief information from dataset such as null values and data types\n",
        "- Take care the null values\n",
        "\n",
        "**Exploratory Data Analysis**\n",
        "- Perform descriptive statistic between categorical and numerical variable\n",
        "- Perform correlation\n",
        "\n",
        "**Data pre-processing**\n",
        "- Drop any duplicate values\n",
        "- Perform one-hot encoding\n",
        "\n",
        "**Modelling**\n",
        "- LogisticRegression\n",
        "- Random Forest\n",
        "- Decision Tree\n",
        "- Gradient Boosting\n",
        "- XGBoost\n",
        "\n",
        "___"
      ]
    },
    {
      "cell_type": "markdown",
      "metadata": {
        "id": "pwGOngLbNs4m"
      },
      "source": [
        "#**Data Preparation**"
      ]
    },
    {
      "cell_type": "code",
      "metadata": {
        "id": "tHqm967sL6a0"
      },
      "source": [
        "#Import library\n",
        "import pandas as pd\n",
        "import numpy as np\n",
        "\n",
        "#Import visualization library\n",
        "import matplotlib.pyplot as plt\n",
        "import seaborn as sns\n",
        "\n",
        "#import sklearn\n",
        "from sklearn.impute import SimpleImputer\n",
        "from sklearn import metrics\n",
        "from sklearn.model_selection import train_test_split, GridSearchCV\n",
        "from sklearn.linear_model import LogisticRegression\n",
        "from sklearn.ensemble import RandomForestClassifier, GradientBoostingClassifier\n",
        "from sklearn.tree import DecisionTreeClassifier\n",
        "from sklearn.neighbors import KNeighborsClassifier\n",
        "from xgboost import XGBClassifier\n",
        "from sklearn.metrics import classification_report, accuracy_score, f1_score\n",
        "from sklearn.feature_selection import SelectFromModel\n",
        "from sklearn.svm import SVC\n",
        "from xgboost import XGBClassifier\n",
        "from xgboost import plot_importance\n",
        "\n",
        "\n",
        "#import class imbalance library\n",
        "from imblearn.over_sampling import SMOTE\n",
        "from imblearn.pipeline import Pipeline\n",
        "\n",
        "from collections import Counter\n",
        "import warnings \n",
        "warnings.filterwarnings('ignore')"
      ],
      "execution_count": 502,
      "outputs": []
    },
    {
      "cell_type": "code",
      "metadata": {
        "colab": {
          "base_uri": "https://localhost:8080/",
          "height": 267
        },
        "id": "TVCZLnweOLsz",
        "outputId": "72eab04b-57cc-4d67-e079-640e90bdee81"
      },
      "source": [
        "#load the dataset\n",
        "loan_data  = pd.read_csv(\"https://raw.githubusercontent.com/dphi-official/Datasets/master/Loan_Data/loan_train.csv\")\n",
        "loan_data.head()"
      ],
      "execution_count": 458,
      "outputs": [
        {
          "output_type": "execute_result",
          "data": {
            "text/html": [
              "<div>\n",
              "<style scoped>\n",
              "    .dataframe tbody tr th:only-of-type {\n",
              "        vertical-align: middle;\n",
              "    }\n",
              "\n",
              "    .dataframe tbody tr th {\n",
              "        vertical-align: top;\n",
              "    }\n",
              "\n",
              "    .dataframe thead th {\n",
              "        text-align: right;\n",
              "    }\n",
              "</style>\n",
              "<table border=\"1\" class=\"dataframe\">\n",
              "  <thead>\n",
              "    <tr style=\"text-align: right;\">\n",
              "      <th></th>\n",
              "      <th>Unnamed: 0</th>\n",
              "      <th>Loan_ID</th>\n",
              "      <th>Gender</th>\n",
              "      <th>Married</th>\n",
              "      <th>Dependents</th>\n",
              "      <th>Education</th>\n",
              "      <th>Self_Employed</th>\n",
              "      <th>ApplicantIncome</th>\n",
              "      <th>CoapplicantIncome</th>\n",
              "      <th>LoanAmount</th>\n",
              "      <th>Loan_Amount_Term</th>\n",
              "      <th>Credit_History</th>\n",
              "      <th>Property_Area</th>\n",
              "      <th>Loan_Status</th>\n",
              "    </tr>\n",
              "  </thead>\n",
              "  <tbody>\n",
              "    <tr>\n",
              "      <th>0</th>\n",
              "      <td>0</td>\n",
              "      <td>LP002305</td>\n",
              "      <td>Female</td>\n",
              "      <td>No</td>\n",
              "      <td>0</td>\n",
              "      <td>Graduate</td>\n",
              "      <td>No</td>\n",
              "      <td>4547</td>\n",
              "      <td>0.0</td>\n",
              "      <td>115.0</td>\n",
              "      <td>360.0</td>\n",
              "      <td>1.0</td>\n",
              "      <td>Semiurban</td>\n",
              "      <td>1</td>\n",
              "    </tr>\n",
              "    <tr>\n",
              "      <th>1</th>\n",
              "      <td>1</td>\n",
              "      <td>LP001715</td>\n",
              "      <td>Male</td>\n",
              "      <td>Yes</td>\n",
              "      <td>3+</td>\n",
              "      <td>Not Graduate</td>\n",
              "      <td>Yes</td>\n",
              "      <td>5703</td>\n",
              "      <td>0.0</td>\n",
              "      <td>130.0</td>\n",
              "      <td>360.0</td>\n",
              "      <td>1.0</td>\n",
              "      <td>Rural</td>\n",
              "      <td>1</td>\n",
              "    </tr>\n",
              "    <tr>\n",
              "      <th>2</th>\n",
              "      <td>2</td>\n",
              "      <td>LP002086</td>\n",
              "      <td>Female</td>\n",
              "      <td>Yes</td>\n",
              "      <td>0</td>\n",
              "      <td>Graduate</td>\n",
              "      <td>No</td>\n",
              "      <td>4333</td>\n",
              "      <td>2451.0</td>\n",
              "      <td>110.0</td>\n",
              "      <td>360.0</td>\n",
              "      <td>1.0</td>\n",
              "      <td>Urban</td>\n",
              "      <td>0</td>\n",
              "    </tr>\n",
              "    <tr>\n",
              "      <th>3</th>\n",
              "      <td>3</td>\n",
              "      <td>LP001136</td>\n",
              "      <td>Male</td>\n",
              "      <td>Yes</td>\n",
              "      <td>0</td>\n",
              "      <td>Not Graduate</td>\n",
              "      <td>Yes</td>\n",
              "      <td>4695</td>\n",
              "      <td>0.0</td>\n",
              "      <td>96.0</td>\n",
              "      <td>NaN</td>\n",
              "      <td>1.0</td>\n",
              "      <td>Urban</td>\n",
              "      <td>1</td>\n",
              "    </tr>\n",
              "    <tr>\n",
              "      <th>4</th>\n",
              "      <td>4</td>\n",
              "      <td>LP002529</td>\n",
              "      <td>Male</td>\n",
              "      <td>Yes</td>\n",
              "      <td>2</td>\n",
              "      <td>Graduate</td>\n",
              "      <td>No</td>\n",
              "      <td>6700</td>\n",
              "      <td>1750.0</td>\n",
              "      <td>230.0</td>\n",
              "      <td>300.0</td>\n",
              "      <td>1.0</td>\n",
              "      <td>Semiurban</td>\n",
              "      <td>1</td>\n",
              "    </tr>\n",
              "  </tbody>\n",
              "</table>\n",
              "</div>"
            ],
            "text/plain": [
              "   Unnamed: 0   Loan_ID  Gender  ... Credit_History Property_Area Loan_Status\n",
              "0           0  LP002305  Female  ...            1.0     Semiurban           1\n",
              "1           1  LP001715    Male  ...            1.0         Rural           1\n",
              "2           2  LP002086  Female  ...            1.0         Urban           0\n",
              "3           3  LP001136    Male  ...            1.0         Urban           1\n",
              "4           4  LP002529    Male  ...            1.0     Semiurban           1\n",
              "\n",
              "[5 rows x 14 columns]"
            ]
          },
          "metadata": {
            "tags": []
          },
          "execution_count": 458
        }
      ]
    },
    {
      "cell_type": "markdown",
      "metadata": {
        "id": "GFsEjThTOVj7"
      },
      "source": [
        "##Brief information on the data"
      ]
    },
    {
      "cell_type": "code",
      "metadata": {
        "colab": {
          "base_uri": "https://localhost:8080/"
        },
        "id": "RPDNcnWTOPGN",
        "outputId": "99387925-f55e-493a-de22-2829fb1d1fe1"
      },
      "source": [
        "#brief information on the data\n",
        "loan_data.info()"
      ],
      "execution_count": 459,
      "outputs": [
        {
          "output_type": "stream",
          "text": [
            "<class 'pandas.core.frame.DataFrame'>\n",
            "RangeIndex: 491 entries, 0 to 490\n",
            "Data columns (total 14 columns):\n",
            " #   Column             Non-Null Count  Dtype  \n",
            "---  ------             --------------  -----  \n",
            " 0   Unnamed: 0         491 non-null    int64  \n",
            " 1   Loan_ID            491 non-null    object \n",
            " 2   Gender             481 non-null    object \n",
            " 3   Married            490 non-null    object \n",
            " 4   Dependents         482 non-null    object \n",
            " 5   Education          491 non-null    object \n",
            " 6   Self_Employed      462 non-null    object \n",
            " 7   ApplicantIncome    491 non-null    int64  \n",
            " 8   CoapplicantIncome  491 non-null    float64\n",
            " 9   LoanAmount         475 non-null    float64\n",
            " 10  Loan_Amount_Term   478 non-null    float64\n",
            " 11  Credit_History     448 non-null    float64\n",
            " 12  Property_Area      491 non-null    object \n",
            " 13  Loan_Status        491 non-null    int64  \n",
            "dtypes: float64(4), int64(3), object(7)\n",
            "memory usage: 53.8+ KB\n"
          ],
          "name": "stdout"
        }
      ]
    },
    {
      "cell_type": "markdown",
      "metadata": {
        "id": "1hrAfengOlYv"
      },
      "source": [
        "there are 1 unnamed variable and 13 variables. Some of the variables contain null values"
      ]
    },
    {
      "cell_type": "code",
      "metadata": {
        "colab": {
          "base_uri": "https://localhost:8080/",
          "height": 287
        },
        "id": "NHWizjF-OhWn",
        "outputId": "bb3022a0-473f-4271-af0b-623fbedb9759"
      },
      "source": [
        "#brief description on the data\n",
        "loan_data.describe()"
      ],
      "execution_count": 460,
      "outputs": [
        {
          "output_type": "execute_result",
          "data": {
            "text/html": [
              "<div>\n",
              "<style scoped>\n",
              "    .dataframe tbody tr th:only-of-type {\n",
              "        vertical-align: middle;\n",
              "    }\n",
              "\n",
              "    .dataframe tbody tr th {\n",
              "        vertical-align: top;\n",
              "    }\n",
              "\n",
              "    .dataframe thead th {\n",
              "        text-align: right;\n",
              "    }\n",
              "</style>\n",
              "<table border=\"1\" class=\"dataframe\">\n",
              "  <thead>\n",
              "    <tr style=\"text-align: right;\">\n",
              "      <th></th>\n",
              "      <th>Unnamed: 0</th>\n",
              "      <th>ApplicantIncome</th>\n",
              "      <th>CoapplicantIncome</th>\n",
              "      <th>LoanAmount</th>\n",
              "      <th>Loan_Amount_Term</th>\n",
              "      <th>Credit_History</th>\n",
              "      <th>Loan_Status</th>\n",
              "    </tr>\n",
              "  </thead>\n",
              "  <tbody>\n",
              "    <tr>\n",
              "      <th>count</th>\n",
              "      <td>491.000000</td>\n",
              "      <td>491.000000</td>\n",
              "      <td>491.000000</td>\n",
              "      <td>475.000000</td>\n",
              "      <td>478.000000</td>\n",
              "      <td>448.000000</td>\n",
              "      <td>491.000000</td>\n",
              "    </tr>\n",
              "    <tr>\n",
              "      <th>mean</th>\n",
              "      <td>245.000000</td>\n",
              "      <td>5401.189409</td>\n",
              "      <td>1589.730998</td>\n",
              "      <td>145.014737</td>\n",
              "      <td>341.297071</td>\n",
              "      <td>0.848214</td>\n",
              "      <td>0.698574</td>\n",
              "    </tr>\n",
              "    <tr>\n",
              "      <th>std</th>\n",
              "      <td>141.883755</td>\n",
              "      <td>6419.427177</td>\n",
              "      <td>2919.320624</td>\n",
              "      <td>86.310534</td>\n",
              "      <td>66.964051</td>\n",
              "      <td>0.359214</td>\n",
              "      <td>0.459345</td>\n",
              "    </tr>\n",
              "    <tr>\n",
              "      <th>min</th>\n",
              "      <td>0.000000</td>\n",
              "      <td>150.000000</td>\n",
              "      <td>0.000000</td>\n",
              "      <td>17.000000</td>\n",
              "      <td>12.000000</td>\n",
              "      <td>0.000000</td>\n",
              "      <td>0.000000</td>\n",
              "    </tr>\n",
              "    <tr>\n",
              "      <th>25%</th>\n",
              "      <td>122.500000</td>\n",
              "      <td>2923.500000</td>\n",
              "      <td>0.000000</td>\n",
              "      <td>100.000000</td>\n",
              "      <td>360.000000</td>\n",
              "      <td>1.000000</td>\n",
              "      <td>0.000000</td>\n",
              "    </tr>\n",
              "    <tr>\n",
              "      <th>50%</th>\n",
              "      <td>245.000000</td>\n",
              "      <td>3865.000000</td>\n",
              "      <td>1229.000000</td>\n",
              "      <td>126.000000</td>\n",
              "      <td>360.000000</td>\n",
              "      <td>1.000000</td>\n",
              "      <td>1.000000</td>\n",
              "    </tr>\n",
              "    <tr>\n",
              "      <th>75%</th>\n",
              "      <td>367.500000</td>\n",
              "      <td>5705.500000</td>\n",
              "      <td>2251.500000</td>\n",
              "      <td>162.000000</td>\n",
              "      <td>360.000000</td>\n",
              "      <td>1.000000</td>\n",
              "      <td>1.000000</td>\n",
              "    </tr>\n",
              "    <tr>\n",
              "      <th>max</th>\n",
              "      <td>490.000000</td>\n",
              "      <td>81000.000000</td>\n",
              "      <td>41667.000000</td>\n",
              "      <td>700.000000</td>\n",
              "      <td>480.000000</td>\n",
              "      <td>1.000000</td>\n",
              "      <td>1.000000</td>\n",
              "    </tr>\n",
              "  </tbody>\n",
              "</table>\n",
              "</div>"
            ],
            "text/plain": [
              "       Unnamed: 0  ApplicantIncome  ...  Credit_History  Loan_Status\n",
              "count  491.000000       491.000000  ...      448.000000   491.000000\n",
              "mean   245.000000      5401.189409  ...        0.848214     0.698574\n",
              "std    141.883755      6419.427177  ...        0.359214     0.459345\n",
              "min      0.000000       150.000000  ...        0.000000     0.000000\n",
              "25%    122.500000      2923.500000  ...        1.000000     0.000000\n",
              "50%    245.000000      3865.000000  ...        1.000000     1.000000\n",
              "75%    367.500000      5705.500000  ...        1.000000     1.000000\n",
              "max    490.000000     81000.000000  ...        1.000000     1.000000\n",
              "\n",
              "[8 rows x 7 columns]"
            ]
          },
          "metadata": {
            "tags": []
          },
          "execution_count": 460
        }
      ]
    },
    {
      "cell_type": "markdown",
      "metadata": {
        "id": "6-INmhSZO0i2"
      },
      "source": [
        "In terms of numerical variables, there are six numerical variables that are related with loan application. The numerical variables look normal data."
      ]
    },
    {
      "cell_type": "code",
      "metadata": {
        "colab": {
          "base_uri": "https://localhost:8080/",
          "height": 224
        },
        "id": "8axMhmyrOzSh",
        "outputId": "c9881e88-d820-4f6a-ea9e-99fec50cd895"
      },
      "source": [
        "#exclude the unnamed variable\n",
        "data = loan_data.iloc[:, 1:]\n",
        "\n",
        "#show null values and its percentage\n",
        "null_val = pd.DataFrame(data.dtypes).T.rename(index = {0:'Columns Type'})\n",
        "null_val = null_val.append(pd.DataFrame(data.isnull().sum()).T.rename(index = {0:'Amount of Null Values'}))\n",
        "null_val = null_val.append(pd.DataFrame(round(data.isnull().sum()/data.shape[0]*100,2)).T.rename(index = {0:'Percentage of Null Values'}))\n",
        "null_val"
      ],
      "execution_count": 461,
      "outputs": [
        {
          "output_type": "execute_result",
          "data": {
            "text/html": [
              "<div>\n",
              "<style scoped>\n",
              "    .dataframe tbody tr th:only-of-type {\n",
              "        vertical-align: middle;\n",
              "    }\n",
              "\n",
              "    .dataframe tbody tr th {\n",
              "        vertical-align: top;\n",
              "    }\n",
              "\n",
              "    .dataframe thead th {\n",
              "        text-align: right;\n",
              "    }\n",
              "</style>\n",
              "<table border=\"1\" class=\"dataframe\">\n",
              "  <thead>\n",
              "    <tr style=\"text-align: right;\">\n",
              "      <th></th>\n",
              "      <th>Loan_ID</th>\n",
              "      <th>Gender</th>\n",
              "      <th>Married</th>\n",
              "      <th>Dependents</th>\n",
              "      <th>Education</th>\n",
              "      <th>Self_Employed</th>\n",
              "      <th>ApplicantIncome</th>\n",
              "      <th>CoapplicantIncome</th>\n",
              "      <th>LoanAmount</th>\n",
              "      <th>Loan_Amount_Term</th>\n",
              "      <th>Credit_History</th>\n",
              "      <th>Property_Area</th>\n",
              "      <th>Loan_Status</th>\n",
              "    </tr>\n",
              "  </thead>\n",
              "  <tbody>\n",
              "    <tr>\n",
              "      <th>Columns Type</th>\n",
              "      <td>object</td>\n",
              "      <td>object</td>\n",
              "      <td>object</td>\n",
              "      <td>object</td>\n",
              "      <td>object</td>\n",
              "      <td>object</td>\n",
              "      <td>int64</td>\n",
              "      <td>float64</td>\n",
              "      <td>float64</td>\n",
              "      <td>float64</td>\n",
              "      <td>float64</td>\n",
              "      <td>object</td>\n",
              "      <td>int64</td>\n",
              "    </tr>\n",
              "    <tr>\n",
              "      <th>Amount of Null Values</th>\n",
              "      <td>0</td>\n",
              "      <td>10</td>\n",
              "      <td>1</td>\n",
              "      <td>9</td>\n",
              "      <td>0</td>\n",
              "      <td>29</td>\n",
              "      <td>0</td>\n",
              "      <td>0</td>\n",
              "      <td>16</td>\n",
              "      <td>13</td>\n",
              "      <td>43</td>\n",
              "      <td>0</td>\n",
              "      <td>0</td>\n",
              "    </tr>\n",
              "    <tr>\n",
              "      <th>Percentage of Null Values</th>\n",
              "      <td>0</td>\n",
              "      <td>2.04</td>\n",
              "      <td>0.2</td>\n",
              "      <td>1.83</td>\n",
              "      <td>0</td>\n",
              "      <td>5.91</td>\n",
              "      <td>0</td>\n",
              "      <td>0</td>\n",
              "      <td>3.26</td>\n",
              "      <td>2.65</td>\n",
              "      <td>8.76</td>\n",
              "      <td>0</td>\n",
              "      <td>0</td>\n",
              "    </tr>\n",
              "  </tbody>\n",
              "</table>\n",
              "</div>"
            ],
            "text/plain": [
              "                          Loan_ID  Gender  ... Property_Area Loan_Status\n",
              "Columns Type               object  object  ...        object       int64\n",
              "Amount of Null Values           0      10  ...             0           0\n",
              "Percentage of Null Values       0    2.04  ...             0           0\n",
              "\n",
              "[3 rows x 13 columns]"
            ]
          },
          "metadata": {
            "tags": []
          },
          "execution_count": 461
        }
      ]
    },
    {
      "cell_type": "markdown",
      "metadata": {
        "id": "eouuXyzsS_fs"
      },
      "source": [
        "Based on the percentage of null values above, it shows that the null values is under than 10% or minor null values. So, in the next section I will decide to fill the null values with the median (if numerical) and the most appear (if categorical)"
      ]
    },
    {
      "cell_type": "markdown",
      "metadata": {
        "id": "mCNZZseDUjlP"
      },
      "source": [
        "##Take care the missing value"
      ]
    },
    {
      "cell_type": "markdown",
      "metadata": {
        "id": "2AR5X3w9bbnl"
      },
      "source": [
        "There are two types of variable such as categorical and numerical. So, I take care both of variables that include null values\n",
        "\n",
        "In terms of categorical variable + binary variable including **Loan_ID, Gender, Married, Dependents, Self Employer, and Credit History**. \n",
        "\n",
        "In terms of numerical variable, it includes **Loan Amount, Loan Amount Term**"
      ]
    },
    {
      "cell_type": "code",
      "metadata": {
        "colab": {
          "base_uri": "https://localhost:8080/"
        },
        "id": "mkp6Kv74SvG1",
        "outputId": "fd54e7e4-e18f-4527-a46f-d91f7f19d724"
      },
      "source": [
        "#impute the missing values\n",
        "#categorical variable + binary variable\n",
        "cat_var = ['Loan_ID', 'Gender', 'Married', 'Dependents', 'Self_Employed','Credit_History']\n",
        "mean_imputer = SimpleImputer(missing_values=np.nan, strategy='most_frequent')\n",
        "for i in cat_var:\n",
        "  mean_imputer = mean_imputer.fit(data[[i]])\n",
        "  data[i] = mean_imputer.transform(data[[i]]).ravel()\n",
        "\n",
        "#numerical variable\n",
        "num_var = ['LoanAmount','Loan_Amount_Term']\n",
        "mean_imputer = SimpleImputer(missing_values=np.nan, strategy='mean')\n",
        "for i in num_var:\n",
        "  mean_imputer = mean_imputer.fit(data[[i]])\n",
        "  data[i] = mean_imputer.transform(data[[i]]).ravel()\n",
        "\n",
        "data.isnull().sum()"
      ],
      "execution_count": 462,
      "outputs": [
        {
          "output_type": "execute_result",
          "data": {
            "text/plain": [
              "Loan_ID              0\n",
              "Gender               0\n",
              "Married              0\n",
              "Dependents           0\n",
              "Education            0\n",
              "Self_Employed        0\n",
              "ApplicantIncome      0\n",
              "CoapplicantIncome    0\n",
              "LoanAmount           0\n",
              "Loan_Amount_Term     0\n",
              "Credit_History       0\n",
              "Property_Area        0\n",
              "Loan_Status          0\n",
              "dtype: int64"
            ]
          },
          "metadata": {
            "tags": []
          },
          "execution_count": 462
        }
      ]
    },
    {
      "cell_type": "markdown",
      "metadata": {
        "id": "X-L_iSeWcIhw"
      },
      "source": [
        "#**Exploratory Data Analysis**"
      ]
    },
    {
      "cell_type": "markdown",
      "metadata": {
        "id": "c8IdDFJ3cXRh"
      },
      "source": [
        "###Numerical variable"
      ]
    },
    {
      "cell_type": "code",
      "metadata": {
        "colab": {
          "base_uri": "https://localhost:8080/",
          "height": 1000
        },
        "id": "ZxMPVWhjcKk5",
        "outputId": "fbedf05e-d4be-4bee-841e-d18b32e5c394"
      },
      "source": [
        "num_cols = ['ApplicantIncome','CoapplicantIncome','LoanAmount','Loan_Amount_Term',\n",
        "            'Credit_History', 'Loan_Status']\n",
        "fig, axes = plt.subplots(3,2, figsize=(18,14))\n",
        "axes = [ax for axes_row in axes for ax in axes_row]\n",
        "\n",
        "for i, col in enumerate(num_cols):\n",
        "  plot = sns.kdeplot(data=data, x=col, ax=axes[i], fill=True)\n",
        "plt.tight_layout()"
      ],
      "execution_count": 463,
      "outputs": [
        {
          "output_type": "display_data",
          "data": {
            "image/png": "[encoded data removed]",
            "text/plain": [
              "<Figure size 1296x1008 with 6 Axes>"
            ]
          },
          "metadata": {
            "tags": [],
            "needs_background": "light"
          }
        }
      ]
    },
    {
      "cell_type": "markdown",
      "metadata": {
        "id": "rod-_BIf1Yo8"
      },
      "source": [
        "Based on the above chart, I could summarize that:\n",
        "- In terms of Applicant Income, the applicant mostly earn between 150 until 10000\n",
        "- In terms of co applicant income, the co applicant mostly earn between 0 until 7500\n",
        "- In terms of loan amount, applicant mostly request 17 - 300 \n",
        "- In terms of loan amount term, the applicant mostly pay the loan in one year (365 days)\n",
        "- In terms of credit history, the applicant mostly pay the debt\n",
        "- The last one, the applicant mostly are granted to have a loan."
      ]
    },
    {
      "cell_type": "markdown",
      "metadata": {
        "id": "ybnGmUR78HSM"
      },
      "source": [
        "###Categorical Variable"
      ]
    },
    {
      "cell_type": "code",
      "metadata": {
        "colab": {
          "base_uri": "https://localhost:8080/",
          "height": 793
        },
        "id": "JJIAXtOz0yjD",
        "outputId": "6e4006d5-e510-4cd8-b98a-f0979ebee7d1"
      },
      "source": [
        "cat_cols = ['Gender','Married','Dependents','Education','Self_Employed','Property_Area']\n",
        "\n",
        "fig, axes = plt.subplots(2,3, figsize=(17,11))\n",
        "axes = [ax for axes_row in axes for ax in axes_row]\n",
        "\n",
        "for i, col in enumerate(cat_cols):\n",
        "  _ = data[col].value_counts()[::-1].plot(kind='pie',ax=axes[i], title=col, autopct='%1.1f%%', shadow=True, fontsize=14)\n",
        "  _ = axes[i].set_ylabel('')\n",
        "\n",
        "_ = plt.tight_layout()"
      ],
      "execution_count": 464,
      "outputs": [
        {
          "output_type": "display_data",
          "data": {
            "image/png": "[encoded data removed]",
            "text/plain": [
              "<Figure size 1224x792 with 6 Axes>"
            ]
          },
          "metadata": {
            "tags": []
          }
        }
      ]
    },
    {
      "cell_type": "markdown",
      "metadata": {
        "id": "woUoXTLw_OXK"
      },
      "source": [
        "The above chart, we can summarize:\n",
        "- Gender, the applicant mostly are Male\n",
        "- Married, the applicant mostly get a married\n",
        "- Dependents, the applcant mostly independent\n",
        "- Education, the applicant mostly have an education\n",
        "- Self_employed, the applicant mostly an employee\n",
        "- The last one, the applicant is well distributed in Semiurban, Rural, and Urban"
      ]
    },
    {
      "cell_type": "markdown",
      "metadata": {
        "id": "Wh8hOjHCF0wO"
      },
      "source": [
        "###Correlation of numerical variables"
      ]
    },
    {
      "cell_type": "code",
      "metadata": {
        "colab": {
          "base_uri": "https://localhost:8080/",
          "height": 518
        },
        "id": "iRSl4VdvF5kv",
        "outputId": "66991a4d-2336-4d72-c21f-af329644d1b1"
      },
      "source": [
        "plt.figure(figsize=(12,7))\n",
        "sns.heatmap(data.corr(), annot=True, cmap='YlGnBu')\n",
        "plt.show()"
      ],
      "execution_count": 465,
      "outputs": [
        {
          "output_type": "display_data",
          "data": {
            "image/png": "[encoded data removed]",
            "text/plain": [
              "<Figure size 864x504 with 2 Axes>"
            ]
          },
          "metadata": {
            "tags": [],
            "needs_background": "light"
          }
        }
      ]
    },
    {
      "cell_type": "markdown",
      "metadata": {
        "id": "Vvt-x6RmGJzZ"
      },
      "source": [
        "In this correlation performance, it shows that loan status is accepted or rejected because of the credit history around **53%**. The high or loan amount is obtained due to the high or low of applicant's income around **58%**.\n",
        "\n",
        "I personally agree with this two high correlation. Let's move to the modelling section"
      ]
    },
    {
      "cell_type": "markdown",
      "metadata": {
        "id": "hZKhZJz0CH7f"
      },
      "source": [
        "#**Data Pre-processing**"
      ]
    },
    {
      "cell_type": "markdown",
      "metadata": {
        "id": "NtQDR53aCdkF"
      },
      "source": [
        "###Drop any duplicate values"
      ]
    },
    {
      "cell_type": "code",
      "metadata": {
        "colab": {
          "base_uri": "https://localhost:8080/"
        },
        "id": "dJlGolQB9wUD",
        "outputId": "0aee0a07-1659-4c2b-d039-cafa24996d3e"
      },
      "source": [
        "#Drop the duplicate data point\n",
        "print('Before dropping the duplicate values',data.shape)\n",
        "data_new = data.drop_duplicates()\n",
        "print('After dropping the duplicate values',data_new.shape)"
      ],
      "execution_count": 466,
      "outputs": [
        {
          "output_type": "stream",
          "text": [
            "Before dropping the duplicate values (491, 13)\n",
            "After dropping the duplicate values (491, 13)\n"
          ],
          "name": "stdout"
        }
      ]
    },
    {
      "cell_type": "markdown",
      "metadata": {
        "id": "nDtuePo-CwNo"
      },
      "source": [
        "There is no duplicate values in the dataset"
      ]
    },
    {
      "cell_type": "markdown",
      "metadata": {
        "id": "z0OQrm9zDCRu"
      },
      "source": [
        "###Perform one-hot encoding"
      ]
    },
    {
      "cell_type": "markdown",
      "metadata": {
        "id": "FW7A9m1aD8mj"
      },
      "source": [
        "Before performing one-hot encoding, there is one variable that we don't need to use in our model, it is Loan ID. So, I drop this columns"
      ]
    },
    {
      "cell_type": "code",
      "metadata": {
        "colab": {
          "base_uri": "https://localhost:8080/"
        },
        "id": "RmNne6XxD7fR",
        "outputId": "c838e144-c9f3-435a-c487-0e1138b46972"
      },
      "source": [
        "#dropping the Loan ID\n",
        "print('Before dropping',data.shape)\n",
        "data = data.drop(columns=['Loan_ID'])\n",
        "print('After dropping',data.shape)"
      ],
      "execution_count": 467,
      "outputs": [
        {
          "output_type": "stream",
          "text": [
            "Before dropping (491, 13)\n",
            "After dropping (491, 12)\n"
          ],
          "name": "stdout"
        }
      ]
    },
    {
      "cell_type": "code",
      "metadata": {
        "colab": {
          "base_uri": "https://localhost:8080/",
          "height": 270
        },
        "id": "hPcWx4d_CvOO",
        "outputId": "a18a6cfe-6775-450c-d97f-023362fb999a"
      },
      "source": [
        "#performing one-hot encoding\n",
        "print('Before doing one-hot encoding',data.shape)\n",
        "data_dumm = pd.get_dummies(data, prefix_sep='_')\n",
        "print('Before doing one-hot encoding',data_dumm.shape)\n",
        "data_dumm.head()"
      ],
      "execution_count": 468,
      "outputs": [
        {
          "output_type": "stream",
          "text": [
            "Before doing one-hot encoding (491, 12)\n",
            "Before doing one-hot encoding (491, 21)\n"
          ],
          "name": "stdout"
        },
        {
          "output_type": "execute_result",
          "data": {
            "text/html": [
              "<div>\n",
              "<style scoped>\n",
              "    .dataframe tbody tr th:only-of-type {\n",
              "        vertical-align: middle;\n",
              "    }\n",
              "\n",
              "    .dataframe tbody tr th {\n",
              "        vertical-align: top;\n",
              "    }\n",
              "\n",
              "    .dataframe thead th {\n",
              "        text-align: right;\n",
              "    }\n",
              "</style>\n",
              "<table border=\"1\" class=\"dataframe\">\n",
              "  <thead>\n",
              "    <tr style=\"text-align: right;\">\n",
              "      <th></th>\n",
              "      <th>ApplicantIncome</th>\n",
              "      <th>CoapplicantIncome</th>\n",
              "      <th>LoanAmount</th>\n",
              "      <th>Loan_Amount_Term</th>\n",
              "      <th>Credit_History</th>\n",
              "      <th>Loan_Status</th>\n",
              "      <th>Gender_Female</th>\n",
              "      <th>Gender_Male</th>\n",
              "      <th>Married_No</th>\n",
              "      <th>Married_Yes</th>\n",
              "      <th>Dependents_0</th>\n",
              "      <th>Dependents_1</th>\n",
              "      <th>Dependents_2</th>\n",
              "      <th>Dependents_3+</th>\n",
              "      <th>Education_Graduate</th>\n",
              "      <th>Education_Not Graduate</th>\n",
              "      <th>Self_Employed_No</th>\n",
              "      <th>Self_Employed_Yes</th>\n",
              "      <th>Property_Area_Rural</th>\n",
              "      <th>Property_Area_Semiurban</th>\n",
              "      <th>Property_Area_Urban</th>\n",
              "    </tr>\n",
              "  </thead>\n",
              "  <tbody>\n",
              "    <tr>\n",
              "      <th>0</th>\n",
              "      <td>4547</td>\n",
              "      <td>0.0</td>\n",
              "      <td>115.0</td>\n",
              "      <td>360.000000</td>\n",
              "      <td>1.0</td>\n",
              "      <td>1</td>\n",
              "      <td>1</td>\n",
              "      <td>0</td>\n",
              "      <td>1</td>\n",
              "      <td>0</td>\n",
              "      <td>1</td>\n",
              "      <td>0</td>\n",
              "      <td>0</td>\n",
              "      <td>0</td>\n",
              "      <td>1</td>\n",
              "      <td>0</td>\n",
              "      <td>1</td>\n",
              "      <td>0</td>\n",
              "      <td>0</td>\n",
              "      <td>1</td>\n",
              "      <td>0</td>\n",
              "    </tr>\n",
              "    <tr>\n",
              "      <th>1</th>\n",
              "      <td>5703</td>\n",
              "      <td>0.0</td>\n",
              "      <td>130.0</td>\n",
              "      <td>360.000000</td>\n",
              "      <td>1.0</td>\n",
              "      <td>1</td>\n",
              "      <td>0</td>\n",
              "      <td>1</td>\n",
              "      <td>0</td>\n",
              "      <td>1</td>\n",
              "      <td>0</td>\n",
              "      <td>0</td>\n",
              "      <td>0</td>\n",
              "      <td>1</td>\n",
              "      <td>0</td>\n",
              "      <td>1</td>\n",
              "      <td>0</td>\n",
              "      <td>1</td>\n",
              "      <td>1</td>\n",
              "      <td>0</td>\n",
              "      <td>0</td>\n",
              "    </tr>\n",
              "    <tr>\n",
              "      <th>2</th>\n",
              "      <td>4333</td>\n",
              "      <td>2451.0</td>\n",
              "      <td>110.0</td>\n",
              "      <td>360.000000</td>\n",
              "      <td>1.0</td>\n",
              "      <td>0</td>\n",
              "      <td>1</td>\n",
              "      <td>0</td>\n",
              "      <td>0</td>\n",
              "      <td>1</td>\n",
              "      <td>1</td>\n",
              "      <td>0</td>\n",
              "      <td>0</td>\n",
              "      <td>0</td>\n",
              "      <td>1</td>\n",
              "      <td>0</td>\n",
              "      <td>1</td>\n",
              "      <td>0</td>\n",
              "      <td>0</td>\n",
              "      <td>0</td>\n",
              "      <td>1</td>\n",
              "    </tr>\n",
              "    <tr>\n",
              "      <th>3</th>\n",
              "      <td>4695</td>\n",
              "      <td>0.0</td>\n",
              "      <td>96.0</td>\n",
              "      <td>341.297071</td>\n",
              "      <td>1.0</td>\n",
              "      <td>1</td>\n",
              "      <td>0</td>\n",
              "      <td>1</td>\n",
              "      <td>0</td>\n",
              "      <td>1</td>\n",
              "      <td>1</td>\n",
              "      <td>0</td>\n",
              "      <td>0</td>\n",
              "      <td>0</td>\n",
              "      <td>0</td>\n",
              "      <td>1</td>\n",
              "      <td>0</td>\n",
              "      <td>1</td>\n",
              "      <td>0</td>\n",
              "      <td>0</td>\n",
              "      <td>1</td>\n",
              "    </tr>\n",
              "    <tr>\n",
              "      <th>4</th>\n",
              "      <td>6700</td>\n",
              "      <td>1750.0</td>\n",
              "      <td>230.0</td>\n",
              "      <td>300.000000</td>\n",
              "      <td>1.0</td>\n",
              "      <td>1</td>\n",
              "      <td>0</td>\n",
              "      <td>1</td>\n",
              "      <td>0</td>\n",
              "      <td>1</td>\n",
              "      <td>0</td>\n",
              "      <td>0</td>\n",
              "      <td>1</td>\n",
              "      <td>0</td>\n",
              "      <td>1</td>\n",
              "      <td>0</td>\n",
              "      <td>1</td>\n",
              "      <td>0</td>\n",
              "      <td>0</td>\n",
              "      <td>1</td>\n",
              "      <td>0</td>\n",
              "    </tr>\n",
              "  </tbody>\n",
              "</table>\n",
              "</div>"
            ],
            "text/plain": [
              "   ApplicantIncome  ...  Property_Area_Urban\n",
              "0             4547  ...                    0\n",
              "1             5703  ...                    0\n",
              "2             4333  ...                    1\n",
              "3             4695  ...                    1\n",
              "4             6700  ...                    0\n",
              "\n",
              "[5 rows x 21 columns]"
            ]
          },
          "metadata": {
            "tags": []
          },
          "execution_count": 468
        }
      ]
    },
    {
      "cell_type": "code",
      "metadata": {
        "id": "_BPxVewCHJYg"
      },
      "source": [
        "#Separate the target and independent variable\n",
        "X = data_dumm.drop(columns='Loan_Status')\n",
        "y = data_dumm['Loan_Status']\n",
        "\n",
        "#Perform train test split data\n",
        "X_train, X_test, y_train, y_test = train_test_split(X, y, test_size=0.3, random_state=45)"
      ],
      "execution_count": 469,
      "outputs": []
    },
    {
      "cell_type": "markdown",
      "metadata": {
        "id": "R1bRpm31LNV-"
      },
      "source": [
        "#**Modelling**"
      ]
    },
    {
      "cell_type": "code",
      "metadata": {
        "id": "HzMNUpLbQgaH"
      },
      "source": [
        "class Class(object):\n",
        "    def __init__(self, clf, params=None):\n",
        "        if params:\n",
        "            self.clf = clf(**params)\n",
        "        else:\n",
        "            self.clf = clf()\n",
        "            \n",
        "    def train(self, x_train, y_train):\n",
        "        self.clf.fit(x_train, y_train)\n",
        "        \n",
        "    def predict(self, x):\n",
        "        return self.clf.predict(x)\n",
        "    \n",
        "    def grid_search(self, parameters, Kfold):\n",
        "        self.grid = GridSearchCV(estimator = self.clf, param_grid = parameters, cv = Kfold)\n",
        "        \n",
        "    def grid_fit(self, X, Y):\n",
        "        self.grid.fit(X, Y)\n",
        "        \n",
        "    def grid_predict_test(self, X, Y):\n",
        "        self.predictions = self.grid.predict(X)\n",
        "        print(\"Testing Accuracy: {:.2f}%\".format(100*metrics.accuracy_score(Y, self.predictions)))\n",
        "        print()\n",
        "        print(classification_report(Y, self.predictions))\n",
        "        \n",
        "        \n",
        "    def grid_predict_train(self, X, Y):\n",
        "        self.predictions = self.grid.predict(X)\n",
        "        print(\"Training Accuracy: {:.2f}%\".format(100*metrics.accuracy_score(Y, self.predictions)))"
      ],
      "execution_count": 470,
      "outputs": []
    },
    {
      "cell_type": "markdown",
      "metadata": {
        "id": "913gUYcjLPKa"
      },
      "source": [
        "###Logistic Regression"
      ]
    },
    {
      "cell_type": "code",
      "metadata": {
        "colab": {
          "base_uri": "https://localhost:8080/"
        },
        "id": "1OA9p-acQltG",
        "outputId": "2e9cef35-04b2-460b-b553-348c21d4687c"
      },
      "source": [
        "lr = Class(clf = LogisticRegression)\n",
        "lr.grid_search(parameters = [{'C':np.logspace(-2, 2,20)}], Kfold = 5)\n",
        "lr.grid_fit(X = X_train, Y = y_train)\n",
        "lr.grid_predict_train(X_train, y_train)\n",
        "lr.grid_predict_test(X_test, y_test)"
      ],
      "execution_count": 471,
      "outputs": [
        {
          "output_type": "stream",
          "text": [
            "Training Accuracy: 80.17%\n",
            "Testing Accuracy: 83.11%\n",
            "\n",
            "              precision    recall  f1-score   support\n",
            "\n",
            "           0       0.85      0.51      0.64        43\n",
            "           1       0.83      0.96      0.89       105\n",
            "\n",
            "    accuracy                           0.83       148\n",
            "   macro avg       0.84      0.74      0.76       148\n",
            "weighted avg       0.83      0.83      0.82       148\n",
            "\n"
          ],
          "name": "stdout"
        }
      ]
    },
    {
      "cell_type": "markdown",
      "metadata": {
        "id": "-o07gomWOMre"
      },
      "source": [
        "###Random Forest"
      ]
    },
    {
      "cell_type": "code",
      "metadata": {
        "colab": {
          "base_uri": "https://localhost:8080/"
        },
        "id": "y68rdcMIORLJ",
        "outputId": "855e5161-940f-4bd9-c01e-fc00be79e396"
      },
      "source": [
        "rf = Class(clf = RandomForestClassifier)\n",
        "param_grid = {'criterion': ['entropy','gini'], \n",
        "              'n_estimators': [20, 40, 60, 80, 100], \n",
        "              'max_features': ['sqrt','log2']}\n",
        "rf.grid_search(parameters = param_grid, Kfold = 5)\n",
        "rf.grid_fit(X = X_train, Y = y_train)\n",
        "rf.grid_predict_train(X_train, y_train)\n",
        "rf.grid_predict_test(X_test, y_test)"
      ],
      "execution_count": 472,
      "outputs": [
        {
          "output_type": "stream",
          "text": [
            "Training Accuracy: 100.00%\n",
            "Testing Accuracy: 79.05%\n",
            "\n",
            "              precision    recall  f1-score   support\n",
            "\n",
            "           0       0.73      0.44      0.55        43\n",
            "           1       0.80      0.93      0.86       105\n",
            "\n",
            "    accuracy                           0.79       148\n",
            "   macro avg       0.77      0.69      0.71       148\n",
            "weighted avg       0.78      0.79      0.77       148\n",
            "\n"
          ],
          "name": "stdout"
        }
      ]
    },
    {
      "cell_type": "markdown",
      "metadata": {
        "id": "-GWxl2nTO7m_"
      },
      "source": [
        "### Decision Tree"
      ]
    },
    {
      "cell_type": "code",
      "metadata": {
        "colab": {
          "base_uri": "https://localhost:8080/"
        },
        "id": "xhEw78CKO6yh",
        "outputId": "bd56df18-2b63-4a50-b127-9079ddaa9819"
      },
      "source": [
        "dt = Class(clf = DecisionTreeClassifier)\n",
        "dt.grid_search(parameters = [{'criterion':['entropy', 'gini'], \n",
        "                             'max_features': ['sqrt', 'log2']}], Kfold = 5)\n",
        "dt.grid_fit(X = X_train, Y = y_train)\n",
        "dt.grid_predict_train(X_train, y_train)\n",
        "dt.grid_predict_test(X_test, y_test)"
      ],
      "execution_count": 473,
      "outputs": [
        {
          "output_type": "stream",
          "text": [
            "Training Accuracy: 100.00%\n",
            "Testing Accuracy: 71.62%\n",
            "\n",
            "              precision    recall  f1-score   support\n",
            "\n",
            "           0       0.51      0.51      0.51        43\n",
            "           1       0.80      0.80      0.80       105\n",
            "\n",
            "    accuracy                           0.72       148\n",
            "   macro avg       0.66      0.66      0.66       148\n",
            "weighted avg       0.72      0.72      0.72       148\n",
            "\n"
          ],
          "name": "stdout"
        }
      ]
    },
    {
      "cell_type": "markdown",
      "metadata": {
        "id": "t1el68dWSVYj"
      },
      "source": [
        "### KNN Classifier"
      ]
    },
    {
      "cell_type": "code",
      "metadata": {
        "colab": {
          "base_uri": "https://localhost:8080/"
        },
        "id": "wmpppx28MMUS",
        "outputId": "5bc4270f-428c-4ff3-eaf4-386eb0fec1b2"
      },
      "source": [
        "knn = Class(clf = KNeighborsClassifier)\n",
        "knn.grid_search(parameters = [{'n_neighbors':np.arange(1,50,1)}], Kfold = 5)\n",
        "knn.grid_fit(X = X_train, Y = y_train)\n",
        "knn.grid_predict_train(X_train, y_train)\n",
        "knn.grid_predict_test(X_test, y_test)"
      ],
      "execution_count": 474,
      "outputs": [
        {
          "output_type": "stream",
          "text": [
            "Training Accuracy: 69.39%\n",
            "Testing Accuracy: 70.95%\n",
            "\n",
            "              precision    recall  f1-score   support\n",
            "\n",
            "           0       0.00      0.00      0.00        43\n",
            "           1       0.71      1.00      0.83       105\n",
            "\n",
            "    accuracy                           0.71       148\n",
            "   macro avg       0.35      0.50      0.42       148\n",
            "weighted avg       0.50      0.71      0.59       148\n",
            "\n"
          ],
          "name": "stdout"
        }
      ]
    },
    {
      "cell_type": "markdown",
      "metadata": {
        "id": "dBwzqM74Yseb"
      },
      "source": [
        "###Gradient Boosting"
      ]
    },
    {
      "cell_type": "code",
      "metadata": {
        "colab": {
          "base_uri": "https://localhost:8080/"
        },
        "id": "Fh_d5hBJStxO",
        "outputId": "f78c4bdf-60e8-446b-8f43-da2ab40fb919"
      },
      "source": [
        "gb = Class(clf = GradientBoostingClassifier)\n",
        "param_grid = {'n_estimators': [20, 40, 60, 80, 100]}\n",
        "gb.grid_search(parameters = param_grid, Kfold = 5)\n",
        "gb.grid_fit(X = X_train, Y = y_train)\n",
        "gb.grid_predict_train(X_train, y_train)\n",
        "gb.grid_predict_test(X_test, y_test)"
      ],
      "execution_count": 475,
      "outputs": [
        {
          "output_type": "stream",
          "text": [
            "Training Accuracy: 82.80%\n",
            "Testing Accuracy: 82.43%\n",
            "\n",
            "              precision    recall  f1-score   support\n",
            "\n",
            "           0       0.90      0.44      0.59        43\n",
            "           1       0.81      0.98      0.89       105\n",
            "\n",
            "    accuracy                           0.82       148\n",
            "   macro avg       0.86      0.71      0.74       148\n",
            "weighted avg       0.84      0.82      0.80       148\n",
            "\n"
          ],
          "name": "stdout"
        }
      ]
    },
    {
      "cell_type": "markdown",
      "metadata": {
        "id": "nO3EWEr1VgzE"
      },
      "source": [
        "###XGboost"
      ]
    },
    {
      "cell_type": "code",
      "metadata": {
        "colab": {
          "base_uri": "https://localhost:8080/"
        },
        "id": "b7XXSFrsTSBN",
        "outputId": "2305e70e-55e9-4c07-bba3-8818cd9cbd13"
      },
      "source": [
        "# fit model to training data\n",
        "xgb_model = XGBClassifier(random_state = 0 )\n",
        "xgb_model.fit(X_train, y_train)\n",
        "\n",
        "xgb_prediction = xgb_model.predict(X_test)\n",
        "xgb_training = xgb_model.predict(X_train)\n",
        "\n",
        "xgb_train = accuracy_score(y_train, xgb_training)\n",
        "xgb_ac = accuracy_score(y_test, xgb_prediction)\n",
        "xgb_fscore = f1_score(y_test ,xgb_prediction)\n",
        "\n",
        "print(\"XGB Baseline Training Model Accuracy: {:.2f}%\".format(xgb_train*100))\n",
        "print(\"XGB Baseline Testing Model Accuracy: {:.2f}%\".format(xgb_ac*100))\n",
        "print(\"XGB Baseline Testing Model F1 Score: {:.2f}%\".format(xgb_fscore*100))"
      ],
      "execution_count": 476,
      "outputs": [
        {
          "output_type": "stream",
          "text": [
            "XGB Baseline Training Model Accuracy: 88.92%\n",
            "XGB Baseline Testing Model Accuracy: 81.08%\n",
            "XGB Baseline Testing Model F1 Score: 87.72%\n"
          ],
          "name": "stdout"
        }
      ]
    },
    {
      "cell_type": "markdown",
      "metadata": {
        "id": "X_odhioTXxiA"
      },
      "source": [
        "**Summarize from the model**\n",
        "\n",
        "I use decision tree and random forest, it shows that the model is overfitting which we can see the training data that the model can predict 100% of the training data.\n",
        "\n",
        "Logistic regression and KNN Classifier show not a good model to predict, because they have low score in predicting the test data.\n",
        "\n",
        "Gradient boosting and XGboost are good model, but I decide to choose XGBoost in order to choose the best f1 score even if in predicting test data the gradient boosting gives slightly better than XGboost. However, f1 score from XGboost is better than gradient boosting"
      ]
    },
    {
      "cell_type": "markdown",
      "metadata": {
        "id": "EHlDaarcZiFT"
      },
      "source": [
        "#**Predict Test Data**"
      ]
    },
    {
      "cell_type": "code",
      "metadata": {
        "colab": {
          "base_uri": "https://localhost:8080/",
          "height": 197
        },
        "id": "hRsQCAHZWYz9",
        "outputId": "38d7e3ed-7ae6-48c1-c6b2-aeea8fd0b31c"
      },
      "source": [
        "test_data = pd.read_csv('https://raw.githubusercontent.com/dphi-official/Datasets/master/Loan_Data/loan_test.csv')\n",
        "test_data.head()"
      ],
      "execution_count": 477,
      "outputs": [
        {
          "output_type": "execute_result",
          "data": {
            "text/html": [
              "<div>\n",
              "<style scoped>\n",
              "    .dataframe tbody tr th:only-of-type {\n",
              "        vertical-align: middle;\n",
              "    }\n",
              "\n",
              "    .dataframe tbody tr th {\n",
              "        vertical-align: top;\n",
              "    }\n",
              "\n",
              "    .dataframe thead th {\n",
              "        text-align: right;\n",
              "    }\n",
              "</style>\n",
              "<table border=\"1\" class=\"dataframe\">\n",
              "  <thead>\n",
              "    <tr style=\"text-align: right;\">\n",
              "      <th></th>\n",
              "      <th>Loan_ID</th>\n",
              "      <th>Gender</th>\n",
              "      <th>Married</th>\n",
              "      <th>Dependents</th>\n",
              "      <th>Education</th>\n",
              "      <th>Self_Employed</th>\n",
              "      <th>ApplicantIncome</th>\n",
              "      <th>CoapplicantIncome</th>\n",
              "      <th>LoanAmount</th>\n",
              "      <th>Loan_Amount_Term</th>\n",
              "      <th>Credit_History</th>\n",
              "      <th>Property_Area</th>\n",
              "    </tr>\n",
              "  </thead>\n",
              "  <tbody>\n",
              "    <tr>\n",
              "      <th>0</th>\n",
              "      <td>LP001116</td>\n",
              "      <td>Male</td>\n",
              "      <td>No</td>\n",
              "      <td>0</td>\n",
              "      <td>Not Graduate</td>\n",
              "      <td>No</td>\n",
              "      <td>3748</td>\n",
              "      <td>1668.0</td>\n",
              "      <td>110.0</td>\n",
              "      <td>360.0</td>\n",
              "      <td>1.0</td>\n",
              "      <td>Semiurban</td>\n",
              "    </tr>\n",
              "    <tr>\n",
              "      <th>1</th>\n",
              "      <td>LP001488</td>\n",
              "      <td>Male</td>\n",
              "      <td>Yes</td>\n",
              "      <td>3+</td>\n",
              "      <td>Graduate</td>\n",
              "      <td>No</td>\n",
              "      <td>4000</td>\n",
              "      <td>7750.0</td>\n",
              "      <td>290.0</td>\n",
              "      <td>360.0</td>\n",
              "      <td>1.0</td>\n",
              "      <td>Semiurban</td>\n",
              "    </tr>\n",
              "    <tr>\n",
              "      <th>2</th>\n",
              "      <td>LP002138</td>\n",
              "      <td>Male</td>\n",
              "      <td>Yes</td>\n",
              "      <td>0</td>\n",
              "      <td>Graduate</td>\n",
              "      <td>No</td>\n",
              "      <td>2625</td>\n",
              "      <td>6250.0</td>\n",
              "      <td>187.0</td>\n",
              "      <td>360.0</td>\n",
              "      <td>1.0</td>\n",
              "      <td>Rural</td>\n",
              "    </tr>\n",
              "    <tr>\n",
              "      <th>3</th>\n",
              "      <td>LP002284</td>\n",
              "      <td>Male</td>\n",
              "      <td>No</td>\n",
              "      <td>0</td>\n",
              "      <td>Not Graduate</td>\n",
              "      <td>No</td>\n",
              "      <td>3902</td>\n",
              "      <td>1666.0</td>\n",
              "      <td>109.0</td>\n",
              "      <td>360.0</td>\n",
              "      <td>1.0</td>\n",
              "      <td>Rural</td>\n",
              "    </tr>\n",
              "    <tr>\n",
              "      <th>4</th>\n",
              "      <td>LP002328</td>\n",
              "      <td>Male</td>\n",
              "      <td>Yes</td>\n",
              "      <td>0</td>\n",
              "      <td>Not Graduate</td>\n",
              "      <td>No</td>\n",
              "      <td>6096</td>\n",
              "      <td>0.0</td>\n",
              "      <td>218.0</td>\n",
              "      <td>360.0</td>\n",
              "      <td>0.0</td>\n",
              "      <td>Rural</td>\n",
              "    </tr>\n",
              "  </tbody>\n",
              "</table>\n",
              "</div>"
            ],
            "text/plain": [
              "    Loan_ID Gender Married  ... Loan_Amount_Term Credit_History Property_Area\n",
              "0  LP001116   Male      No  ...            360.0            1.0     Semiurban\n",
              "1  LP001488   Male     Yes  ...            360.0            1.0     Semiurban\n",
              "2  LP002138   Male     Yes  ...            360.0            1.0         Rural\n",
              "3  LP002284   Male      No  ...            360.0            1.0         Rural\n",
              "4  LP002328   Male     Yes  ...            360.0            0.0         Rural\n",
              "\n",
              "[5 rows x 12 columns]"
            ]
          },
          "metadata": {
            "tags": []
          },
          "execution_count": 477
        }
      ]
    },
    {
      "cell_type": "code",
      "metadata": {
        "colab": {
          "base_uri": "https://localhost:8080/"
        },
        "id": "qgH-DHMOZonG",
        "outputId": "360fb946-caf3-42f2-ad37-1d2c9bdfeaa0"
      },
      "source": [
        "test_data.info()"
      ],
      "execution_count": 478,
      "outputs": [
        {
          "output_type": "stream",
          "text": [
            "<class 'pandas.core.frame.DataFrame'>\n",
            "RangeIndex: 123 entries, 0 to 122\n",
            "Data columns (total 12 columns):\n",
            " #   Column             Non-Null Count  Dtype  \n",
            "---  ------             --------------  -----  \n",
            " 0   Loan_ID            123 non-null    object \n",
            " 1   Gender             120 non-null    object \n",
            " 2   Married            121 non-null    object \n",
            " 3   Dependents         117 non-null    object \n",
            " 4   Education          123 non-null    object \n",
            " 5   Self_Employed      120 non-null    object \n",
            " 6   ApplicantIncome    123 non-null    int64  \n",
            " 7   CoapplicantIncome  123 non-null    float64\n",
            " 8   LoanAmount         117 non-null    float64\n",
            " 9   Loan_Amount_Term   122 non-null    float64\n",
            " 10  Credit_History     116 non-null    float64\n",
            " 11  Property_Area      123 non-null    object \n",
            "dtypes: float64(4), int64(1), object(7)\n",
            "memory usage: 11.7+ KB\n"
          ],
          "name": "stdout"
        }
      ]
    },
    {
      "cell_type": "code",
      "metadata": {
        "colab": {
          "base_uri": "https://localhost:8080/"
        },
        "cellView": "code",
        "id": "fi74koopeCUb",
        "outputId": "e479813d-e2f0-43a9-b7a6-c83db6cb024e"
      },
      "source": [
        "#@title Default title text\n",
        "#impute the missing values\n",
        "#categorical variable + binary variable\n",
        "cat_var = ['Gender', 'Married', 'Dependents', 'Self_Employed','Credit_History']\n",
        "mean_imputer = SimpleImputer(missing_values=np.nan, strategy='most_frequent')\n",
        "for i in cat_var:\n",
        "  mean_imputer = mean_imputer.fit(test_data[[i]])\n",
        "  test_data[i] = mean_imputer.transform(test_data[[i]]).ravel()\n",
        "\n",
        "#numerical variable\n",
        "num_var = ['LoanAmount','Loan_Amount_Term']\n",
        "mean_imputer = SimpleImputer(missing_values=np.nan, strategy='mean')\n",
        "for i in num_var:\n",
        "  mean_imputer = mean_imputer.fit(test_data[[i]])\n",
        "  test_data[i] = mean_imputer.transform(test_data[[i]]).ravel()\n",
        "\n",
        "test_data.isnull().sum()"
      ],
      "execution_count": 480,
      "outputs": [
        {
          "output_type": "execute_result",
          "data": {
            "text/plain": [
              "Loan_ID              0\n",
              "Gender               0\n",
              "Married              0\n",
              "Dependents           0\n",
              "Education            0\n",
              "Self_Employed        0\n",
              "ApplicantIncome      0\n",
              "CoapplicantIncome    0\n",
              "LoanAmount           0\n",
              "Loan_Amount_Term     0\n",
              "Credit_History       0\n",
              "Property_Area        0\n",
              "dtype: int64"
            ]
          },
          "metadata": {
            "tags": []
          },
          "execution_count": 480
        }
      ]
    },
    {
      "cell_type": "code",
      "metadata": {
        "id": "fx3_UWjoadt0"
      },
      "source": [
        "#drop the Loan ID\n",
        "test_data = test_data.drop(columns='Loan_ID')"
      ],
      "execution_count": 481,
      "outputs": []
    },
    {
      "cell_type": "code",
      "metadata": {
        "colab": {
          "base_uri": "https://localhost:8080/",
          "height": 270
        },
        "id": "y2miUwi1ZrxX",
        "outputId": "4648c669-6fbc-438a-a01d-d9fa793de7b8"
      },
      "source": [
        "#apply one-hot encoding\n",
        "print('Before doing one-hot encoding',test_data.shape)\n",
        "test = pd.get_dummies(test_data, prefix_sep='_')\n",
        "print('Before doing one-hot encoding',test.shape)\n",
        "test.head()"
      ],
      "execution_count": 482,
      "outputs": [
        {
          "output_type": "stream",
          "text": [
            "Before doing one-hot encoding (123, 11)\n",
            "Before doing one-hot encoding (123, 20)\n"
          ],
          "name": "stdout"
        },
        {
          "output_type": "execute_result",
          "data": {
            "text/html": [
              "<div>\n",
              "<style scoped>\n",
              "    .dataframe tbody tr th:only-of-type {\n",
              "        vertical-align: middle;\n",
              "    }\n",
              "\n",
              "    .dataframe tbody tr th {\n",
              "        vertical-align: top;\n",
              "    }\n",
              "\n",
              "    .dataframe thead th {\n",
              "        text-align: right;\n",
              "    }\n",
              "</style>\n",
              "<table border=\"1\" class=\"dataframe\">\n",
              "  <thead>\n",
              "    <tr style=\"text-align: right;\">\n",
              "      <th></th>\n",
              "      <th>ApplicantIncome</th>\n",
              "      <th>CoapplicantIncome</th>\n",
              "      <th>LoanAmount</th>\n",
              "      <th>Loan_Amount_Term</th>\n",
              "      <th>Credit_History</th>\n",
              "      <th>Gender_Female</th>\n",
              "      <th>Gender_Male</th>\n",
              "      <th>Married_No</th>\n",
              "      <th>Married_Yes</th>\n",
              "      <th>Dependents_0</th>\n",
              "      <th>Dependents_1</th>\n",
              "      <th>Dependents_2</th>\n",
              "      <th>Dependents_3+</th>\n",
              "      <th>Education_Graduate</th>\n",
              "      <th>Education_Not Graduate</th>\n",
              "      <th>Self_Employed_No</th>\n",
              "      <th>Self_Employed_Yes</th>\n",
              "      <th>Property_Area_Rural</th>\n",
              "      <th>Property_Area_Semiurban</th>\n",
              "      <th>Property_Area_Urban</th>\n",
              "    </tr>\n",
              "  </thead>\n",
              "  <tbody>\n",
              "    <tr>\n",
              "      <th>0</th>\n",
              "      <td>3748</td>\n",
              "      <td>1668.0</td>\n",
              "      <td>110.0</td>\n",
              "      <td>360.0</td>\n",
              "      <td>1.0</td>\n",
              "      <td>0</td>\n",
              "      <td>1</td>\n",
              "      <td>1</td>\n",
              "      <td>0</td>\n",
              "      <td>1</td>\n",
              "      <td>0</td>\n",
              "      <td>0</td>\n",
              "      <td>0</td>\n",
              "      <td>0</td>\n",
              "      <td>1</td>\n",
              "      <td>1</td>\n",
              "      <td>0</td>\n",
              "      <td>0</td>\n",
              "      <td>1</td>\n",
              "      <td>0</td>\n",
              "    </tr>\n",
              "    <tr>\n",
              "      <th>1</th>\n",
              "      <td>4000</td>\n",
              "      <td>7750.0</td>\n",
              "      <td>290.0</td>\n",
              "      <td>360.0</td>\n",
              "      <td>1.0</td>\n",
              "      <td>0</td>\n",
              "      <td>1</td>\n",
              "      <td>0</td>\n",
              "      <td>1</td>\n",
              "      <td>0</td>\n",
              "      <td>0</td>\n",
              "      <td>0</td>\n",
              "      <td>1</td>\n",
              "      <td>1</td>\n",
              "      <td>0</td>\n",
              "      <td>1</td>\n",
              "      <td>0</td>\n",
              "      <td>0</td>\n",
              "      <td>1</td>\n",
              "      <td>0</td>\n",
              "    </tr>\n",
              "    <tr>\n",
              "      <th>2</th>\n",
              "      <td>2625</td>\n",
              "      <td>6250.0</td>\n",
              "      <td>187.0</td>\n",
              "      <td>360.0</td>\n",
              "      <td>1.0</td>\n",
              "      <td>0</td>\n",
              "      <td>1</td>\n",
              "      <td>0</td>\n",
              "      <td>1</td>\n",
              "      <td>1</td>\n",
              "      <td>0</td>\n",
              "      <td>0</td>\n",
              "      <td>0</td>\n",
              "      <td>1</td>\n",
              "      <td>0</td>\n",
              "      <td>1</td>\n",
              "      <td>0</td>\n",
              "      <td>1</td>\n",
              "      <td>0</td>\n",
              "      <td>0</td>\n",
              "    </tr>\n",
              "    <tr>\n",
              "      <th>3</th>\n",
              "      <td>3902</td>\n",
              "      <td>1666.0</td>\n",
              "      <td>109.0</td>\n",
              "      <td>360.0</td>\n",
              "      <td>1.0</td>\n",
              "      <td>0</td>\n",
              "      <td>1</td>\n",
              "      <td>1</td>\n",
              "      <td>0</td>\n",
              "      <td>1</td>\n",
              "      <td>0</td>\n",
              "      <td>0</td>\n",
              "      <td>0</td>\n",
              "      <td>0</td>\n",
              "      <td>1</td>\n",
              "      <td>1</td>\n",
              "      <td>0</td>\n",
              "      <td>1</td>\n",
              "      <td>0</td>\n",
              "      <td>0</td>\n",
              "    </tr>\n",
              "    <tr>\n",
              "      <th>4</th>\n",
              "      <td>6096</td>\n",
              "      <td>0.0</td>\n",
              "      <td>218.0</td>\n",
              "      <td>360.0</td>\n",
              "      <td>0.0</td>\n",
              "      <td>0</td>\n",
              "      <td>1</td>\n",
              "      <td>0</td>\n",
              "      <td>1</td>\n",
              "      <td>1</td>\n",
              "      <td>0</td>\n",
              "      <td>0</td>\n",
              "      <td>0</td>\n",
              "      <td>0</td>\n",
              "      <td>1</td>\n",
              "      <td>1</td>\n",
              "      <td>0</td>\n",
              "      <td>1</td>\n",
              "      <td>0</td>\n",
              "      <td>0</td>\n",
              "    </tr>\n",
              "  </tbody>\n",
              "</table>\n",
              "</div>"
            ],
            "text/plain": [
              "   ApplicantIncome  ...  Property_Area_Urban\n",
              "0             3748  ...                    0\n",
              "1             4000  ...                    0\n",
              "2             2625  ...                    0\n",
              "3             3902  ...                    0\n",
              "4             6096  ...                    0\n",
              "\n",
              "[5 rows x 20 columns]"
            ]
          },
          "metadata": {
            "tags": []
          },
          "execution_count": 482
        }
      ]
    },
    {
      "cell_type": "code",
      "metadata": {
        "colab": {
          "base_uri": "https://localhost:8080/"
        },
        "id": "Vj9JC9pBfgFQ",
        "outputId": "a962937d-ab23-4416-bb58-487b16a9873c"
      },
      "source": [
        "param_grid = {'criterion': ['entropy','gini'], \n",
        "              'n_estimators': [20, 40, 60, 80, 100], \n",
        "              'max_features': ['sqrt','log2']}\n",
        "rf = GridSearchCV(RandomForestClassifier(), param_grid, cv=5)\n",
        "rf.fit(X_train, y_train)\n",
        "print(rf.best_params_)"
      ],
      "execution_count": 512,
      "outputs": [
        {
          "output_type": "stream",
          "text": [
            "{'criterion': 'gini', 'max_features': 'sqrt', 'n_estimators': 100}\n"
          ],
          "name": "stdout"
        }
      ]
    },
    {
      "cell_type": "code",
      "metadata": {
        "id": "r8YeszIQcQ3h"
      },
      "source": [
        "#prediction\n",
        "prediction = rf.predict(test)\n"
      ],
      "execution_count": 509,
      "outputs": []
    },
    {
      "cell_type": "code",
      "metadata": {
        "colab": {
          "base_uri": "https://localhost:8080/"
        },
        "id": "Cc_WcM3pcYfX",
        "outputId": "eeab1816-f88e-4bfc-cbaf-3190c4cf0390"
      },
      "source": [
        "result = pd.DataFrame(prediction)\n",
        "result.index = test_data.index\n",
        "result.columns = ['prediction']\n",
        "result.shape"
      ],
      "execution_count": 510,
      "outputs": [
        {
          "output_type": "execute_result",
          "data": {
            "text/plain": [
              "(123, 1)"
            ]
          },
          "metadata": {
            "tags": []
          },
          "execution_count": 510
        }
      ]
    },
    {
      "cell_type": "code",
      "metadata": {
        "colab": {
          "base_uri": "https://localhost:8080/",
          "height": 16
        },
        "id": "ywgG7LUfcpic",
        "outputId": "0e783c3a-922c-483e-a6d2-faa53e6e7fca"
      },
      "source": [
        "# #download\n",
        "# from google.colab import files\n",
        "# result.to_csv('prediction_result.csv', index=False)\n",
        "# files.download('prediction_result.csv')"
      ],
      "execution_count": 511,
      "outputs": [
        {
          "output_type": "display_data",
          "data": {
            "application/javascript": [
              "\n",
              "    async function download(id, filename, size) {\n",
              "      if (!google.colab.kernel.accessAllowed) {\n",
              "        return;\n",
              "      }\n",
              "      const div = document.createElement('div');\n",
              "      const label = document.createElement('label');\n",
              "      label.textContent = `Downloading \"${filename}\": `;\n",
              "      div.appendChild(label);\n",
              "      const progress = document.createElement('progress');\n",
              "      progress.max = size;\n",
              "      div.appendChild(progress);\n",
              "      document.body.appendChild(div);\n",
              "\n",
              "      const buffers = [];\n",
              "      let downloaded = 0;\n",
              "\n",
              "      const channel = await google.colab.kernel.comms.open(id);\n",
              "      // Send a message to notify the kernel that we're ready.\n",
              "      channel.send({})\n",
              "\n",
              "      for await (const message of channel.messages) {\n",
              "        // Send a message to notify the kernel that we're ready.\n",
              "        channel.send({})\n",
              "        if (message.buffers) {\n",
              "          for (const buffer of message.buffers) {\n",
              "            buffers.push(buffer);\n",
              "            downloaded += buffer.byteLength;\n",
              "            progress.value = downloaded;\n",
              "          }\n",
              "        }\n",
              "      }\n",
              "      const blob = new Blob(buffers, {type: 'application/binary'});\n",
              "      const a = document.createElement('a');\n",
              "      a.href = window.URL.createObjectURL(blob);\n",
              "      a.download = filename;\n",
              "      div.appendChild(a);\n",
              "      a.click();\n",
              "      div.remove();\n",
              "    }\n",
              "  "
            ],
            "text/plain": [
              "<IPython.core.display.Javascript object>"
            ]
          },
          "metadata": {
            "tags": []
          }
        },
        {
          "output_type": "display_data",
          "data": {
            "application/javascript": [
              "download(\"download_e3a43162-abcb-4f42-8f51-fa2b20e51cf4\", \"prediction_result.csv\", 257)"
            ],
            "text/plain": [
              "<IPython.core.display.Javascript object>"
            ]
          },
          "metadata": {
            "tags": []
          }
        }
      ]
    }
  ]
}